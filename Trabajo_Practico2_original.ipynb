{
  "cells": [
    {
      "cell_type": "markdown",
      "metadata": {
        "id": "view-in-github",
        "colab_type": "text"
      },
      "source": [
        "<a href=\"https://colab.research.google.com/github/paingolani/Collabs/blob/main/Trabajo_Practico2_original.ipynb\" target=\"_parent\"><img src=\"https://colab.research.google.com/assets/colab-badge.svg\" alt=\"Open In Colab\"/></a>"
      ]
    },
    {
      "cell_type": "markdown",
      "source": [],
      "metadata": {
        "id": "Itc9m68nPbXC"
      },
      "id": "Itc9m68nPbXC"
    },
    {
      "cell_type": "markdown",
      "metadata": {
        "id": "X90tq7dPHk2d"
      },
      "source": [
        "Listado de Integrantes\n",
        "\n",
        "\n",
        "*   Daniel Alejandro Buzzi              daniel.buzzi@gmail.com, danibuzzi@yahoo.com\n",
        "*   Lucas Fabian Cingolani              cingolanilucas@gmail.com\n",
        "*   Patricio Agustín Silvera            patriciosilvera209@gmail.com\n",
        "*   Federico Andrés Pereyra             fedepereyra10@gmail.com\n",
        "*   Alejandra Elizabeth Alzuri          alealzuri0307@gmail.com\n",
        "*"
      ],
      "id": "X90tq7dPHk2d"
    },
    {
      "cell_type": "markdown",
      "metadata": {
        "id": "1qK5hGNp-o6o"
      },
      "source": [
        "# Introducción a NumPy\n",
        "\n",
        "\n",
        "\n",
        "\n",
        "Este Práctico proporciona una introducción básica a NumPy, destacando algunas de sus características clave y mostrando ejemplos de su uso. A continuación tendrán un resúmen de algunos comando y su implementación. Esto servirá de guia para desarrollar las actividades propuestas a continuación."
      ],
      "id": "1qK5hGNp-o6o"
    },
    {
      "cell_type": "markdown",
      "metadata": {
        "id": "EhfjWsse-o6r"
      },
      "source": [
        "## Comparación entre uso de vectores de Python y NumPy\n",
        "A continuación se presentan varios aspectos para poder comparar la implementación de vectores a través del tipo de datos LISTA , comparado con la implementación de vectores con NumPy:"
      ],
      "id": "EhfjWsse-o6r"
    },
    {
      "cell_type": "markdown",
      "metadata": {
        "id": "c294f2JK-o6s"
      },
      "source": [
        "#### 1- Creación de vectores\n",
        "\n",
        "En esta celda, se importa la biblioteca NumPy y se **CREA UN VECTOR** utilizando Python puro y NumPy. Luego, se imprime cada uno de los vectores."
      ],
      "id": "c294f2JK-o6s"
    },
    {
      "cell_type": "code",
      "execution_count": null,
      "metadata": {
        "id": "_HV2dLLF-o6s",
        "colab": {
          "base_uri": "https://localhost:8080/"
        },
        "outputId": "56874440-8e8c-4e80-cf1b-545e951d6961"
      },
      "outputs": [
        {
          "output_type": "stream",
          "name": "stdout",
          "text": [
            "Vector en Python puro: [1, 2, 3, 4, 5]\n",
            "Vector en NumPy: [1.  2.  3.5 4.  5. ]\n"
          ]
        }
      ],
      "source": [
        "import numpy as np\n",
        "vector_py = [1, 2, 3, 4, 5]\n",
        "vector_np = np.array([1, 2, 3.5, 4, 5])\n",
        "print(\"Vector en Python puro:\", vector_py)\n",
        "print(\"Vector en NumPy:\", vector_np)"
      ],
      "id": "_HV2dLLF-o6s"
    },
    {
      "cell_type": "markdown",
      "metadata": {
        "id": "dMFB7By3-o6t"
      },
      "source": [
        "#### 2- Operaciones matemáticas\n",
        "En esta celda, se realizan operaciones matemáticas en un vector utilizando Python puro y NumPy. Luego, se imprime el resultado de cada operación."
      ],
      "id": "dMFB7By3-o6t"
    },
    {
      "cell_type": "code",
      "execution_count": null,
      "metadata": {
        "colab": {
          "base_uri": "https://localhost:8080/"
        },
        "id": "fu-4G2Ut-o6t",
        "outputId": "816b5481-7f26-4aff-f92b-8f928f8e9cd7"
      },
      "outputs": [
        {
          "output_type": "execute_result",
          "data": {
            "text/plain": [
              "[1, 2, 3, 4, 5, 1, 2, 3, 4, 5]"
            ]
          },
          "metadata": {},
          "execution_count": 2
        }
      ],
      "source": [
        "vector_py = [1, 2, 3, 4, 5]\n",
        "vector_np = np.array([1, 2, 3, 4, 5])\n",
        "suma_py = [x + 2 for x in vector_py]\n",
        "suma_np = vector_np *2\n",
        "#print(\"Suma en Python puro:\", suma_py)\n",
        "#print(\"Suma en NumPy:\", suma_np)\n",
        "vector_py*2"
      ],
      "id": "fu-4G2Ut-o6t"
    },
    {
      "cell_type": "markdown",
      "metadata": {
        "id": "zNYiFFjG-o6u"
      },
      "source": [
        "#### 3- Indexado y segmentación\n",
        "En esta celda, se realiza el indexado y segmentación en un vector utilizando Python puro y NumPy. Luego, se imprime el resultado de cada operación."
      ],
      "id": "zNYiFFjG-o6u"
    },
    {
      "cell_type": "code",
      "execution_count": null,
      "metadata": {
        "colab": {
          "base_uri": "https://localhost:8080/"
        },
        "id": "c-PIchEg-o6u",
        "outputId": "acf4b356-844f-46bc-f97e-49a0269d3029"
      },
      "outputs": [
        {
          "output_type": "stream",
          "name": "stdout",
          "text": [
            "Segmento en Python puro: [2, 3, 4]\n",
            "Segmento en NumPy: [2 3 4]\n"
          ]
        }
      ],
      "source": [
        "vector_py = [1, 2, 3, 4, 5]\n",
        "vector_np = np.array([1, 2, 3, 4, 5])\n",
        "segmento_py = vector_py[1:4]\n",
        "segmento_np = vector_np[1:4]\n",
        "print(\"Segmento en Python puro:\", segmento_py)\n",
        "print(\"Segmento en NumPy:\", segmento_np)"
      ],
      "id": "c-PIchEg-o6u"
    },
    {
      "cell_type": "markdown",
      "metadata": {
        "id": "v5GzRhOK-o6v"
      },
      "source": [
        "## Operaciones entre vectores y funciones sobre vectores\n",
        "A continuación se presentan algunos ejemplos de operaciones básicas entre vectores utilizando NumPy:"
      ],
      "id": "v5GzRhOK-o6v"
    },
    {
      "cell_type": "markdown",
      "metadata": {
        "id": "KE93Crg_-o6v"
      },
      "source": [
        "#### Suma de vectores\n",
        "En esta celda, se crea un vector 'vector_a' y un vector 'vector_b', y se realiza la suma de ambos vectores utilizando NumPy. Luego, se imprime el resultado."
      ],
      "id": "KE93Crg_-o6v"
    },
    {
      "cell_type": "code",
      "execution_count": null,
      "metadata": {
        "id": "rAzW3AvC-o6v",
        "colab": {
          "base_uri": "https://localhost:8080/"
        },
        "outputId": "14739bda-3a68-46d4-e706-42a20eff3c22"
      },
      "outputs": [
        {
          "output_type": "stream",
          "name": "stdout",
          "text": [
            "Suma de vectores: [5 7 9]\n"
          ]
        }
      ],
      "source": [
        "vector_a = np.array([1, 2, 3])\n",
        "vector_b = np.array([4, 5, 6])\n",
        "suma_vector = vector_a + vector_b\n",
        "print(\"Suma de vectores:\", suma_vector)"
      ],
      "id": "rAzW3AvC-o6v"
    },
    {
      "cell_type": "markdown",
      "source": [
        "# ***EJERCICIOS PARTE 1***\n",
        "\n",
        "***EJERCICIO 1:***\n",
        "\n",
        "Dada la siguiente tabla (matriz) de datos, donde cada fila representa la cantidad que se vendio en referencia a un solo producto durante toda la semana; mientras que cada columna representa la venta total en un dia de la semana.Obtener la siguiente información detallada:\n",
        "\n",
        "\n",
        "*   Importe total de la venta por cada dia de la semana\n",
        "*   Importe total de la venta por cada producto en la semana\n",
        "*   Importe total de la venta en toda la semana\n",
        "\n"
      ],
      "metadata": {
        "id": "m8wTYxHe6TwA"
      },
      "id": "m8wTYxHe6TwA"
    },
    {
      "cell_type": "code",
      "execution_count": null,
      "metadata": {
        "id": "djSElJbA4fVb"
      },
      "outputs": [],
      "source": [
        "import numpy as np\n",
        "\n",
        "\n",
        "# Datos de ventas diarias de 4 productos durante una semana\n",
        "\n",
        "ventas_diarias = np.array(\n",
        "    #Lun,Mar,Mie,Jue,Vie,Sab,Dom\n",
        "    [[20, 15, 25, 30, 18, 22, 24],  #Producto A\n",
        "    [12, 20, 14, 8, 15, 18, 16],    #Producto B\n",
        "    [35, 28, 32, 30, 26, 24, 30],   #Producto C\n",
        "    [40, 38, 45, 42, 39, 41, 37]    #Producto D\n",
        "    ]\n",
        ")\n",
        "\n",
        "print(\"Matriz de ventas diarias: \\n\",ventas_diarias)\n",
        "\n",
        "#==== FORMAS DE RECORRER UNA MATRIZ FIJADA LA COLUMNA J=1\n",
        "#    Calcula la suma total del dia lunes\n",
        "\"\"\"suma=0\n",
        "for i in range(4):\n",
        "  print(ventas_diarias[i,0])\n",
        "  suma=suma+ventas_diarias[i,0]\n",
        "print('la suma total del lunes es:', suma)\n",
        "suma2=0\n",
        "for i in range(4):\n",
        "  print(ventas_diarias[i,1])\n",
        "  suma2=suma2+ventas_diarias[i,1]\n",
        "print('la suma total del martes es: ', suma2)\"\"\"\n",
        "\n",
        "\n",
        "#===== IMPLEMENTACIÓN DE UN MÉTODO DE NUMPY\n",
        "# Suma de las ventas por día (sumar las columnas)\n",
        "\n",
        "ventas_por_dia = np.sum(ventas_diarias, axis=0)\n",
        "print(\"Ventas lunes \",ventas_por_dia[0])\n",
        "print(\"Ventas martes \",ventas_por_dia[1])\n",
        "print(\"Ventas miercoles \",ventas_por_dia[2])\n",
        "print(\"Ventas jueves \",ventas_por_dia[3])\n",
        "print(\"Ventas viernes \",ventas_por_dia[4])\n",
        "print(\"Ventas sabado \",ventas_por_dia[5])\n",
        "print(\"Ventas domingo \",ventas_por_dia[6])\n",
        "\n",
        "# Suma de las ventas por producto (sumar las filas)\n",
        "ventas_por_prod = np.sum(ventas_diarias, axis=1)\n",
        "print('Producto A',ventas_por_prod[0])\n",
        "print('Producto B',ventas_por_prod[1])\n",
        "print('Producto C',ventas_por_prod[2])\n",
        "print('Producto D',ventas_por_prod[3])\n",
        "\n",
        "#Suma total\n",
        "total=np.sum(ventas_diarias)\n",
        "print('Total de ventas: ', total)\n"
      ],
      "id": "djSElJbA4fVb"
    },
    {
      "cell_type": "markdown",
      "source": [
        "**EJERCICIO 2:**\n",
        "\n",
        "Crear un programa donde se le pida al usuario que ingrese la cantidad de elementos de una lista de números reales positivos. Luego Convertir esa lista en un vector de Numpy.\n",
        "\n"
      ],
      "metadata": {
        "id": "CqUA_dCI6FCc"
      },
      "id": "CqUA_dCI6FCc"
    },
    {
      "cell_type": "code",
      "source": [
        "\n",
        "import numpy as np\n",
        "\n",
        "while True:\n",
        "    try:\n",
        "        cant=int(input(\"Ingrese la cantidad de elementos que desea en la lista: \"))\n",
        "        if cant>0:\n",
        "          break\n",
        "        else:\n",
        "          print(\"El numero ingresado debe ser mayor a 0\")\n",
        "    except ValueError:\n",
        "        print(\"¡Debes ingresar un número entero!\")\n",
        "lista_pyth=[]\n",
        "\n",
        "for i in range(cant):\n",
        "  x=int(input(\"Numero a agregar: \"))\n",
        "  lista_pyth.append(x)\n",
        "lista_nump=np.array(lista_pyth)\n",
        "print(lista_nump)\n",
        "\n"
      ],
      "metadata": {
        "id": "oLEI-_2vP9l4"
      },
      "id": "oLEI-_2vP9l4",
      "execution_count": null,
      "outputs": []
    },
    {
      "cell_type": "markdown",
      "source": [
        "\n",
        "**Ejercicio 3:**\n",
        "\n",
        "Crear un programa donde el usuario ingrese la cantidad de filas y columnas que tendra una tabla de datos. Luego el programa pedira ingresar los datos de la tabla fila por fila. Todos los datos serán numéricos.\n",
        "\n",
        "Mostrar la tabla ingresada en formato LISTA de Python, y mostrar la misma tabla en formato array de Numpy.\n",
        "\n",
        "Solicitar al usuario que ingrese las posiciones de dos filas y realice la suma  de las mismas. Mostrar este vector resultado."
      ],
      "metadata": {
        "id": "ExpBJWL591Yx"
      },
      "id": "ExpBJWL591Yx"
    },
    {
      "cell_type": "code",
      "source": [
        "import numpy as np\n",
        "\n",
        "#funcion para rellenar matriz\n",
        "def rellenarmatriz(matriz):\n",
        "  filas=len(matriz)\n",
        "  columnas=len(matriz[0])\n",
        "  for f in range(filas):\n",
        "    for c in range(columnas):\n",
        "      n=int(input(\"Ingrese un numero: \"))\n",
        "      matriz[f][c]=n\n",
        "\n",
        "filas=int(input(\"Ingrese cuantas filas: \"))\n",
        "columnas=int(input(\"Ingrese cuantas columnas: \"))\n",
        "#creamos matriz\n",
        "matriz_py=[[0]*columnas for i in range(filas)]\n",
        "\n",
        "#rellenamos matriz\n",
        "rellenarmatriz(matriz_py)\n",
        "\n",
        "#la transformamos a matriz np\n",
        "matriz_np=np.array(matriz_py)\n",
        "\n",
        "print(matriz_py)\n",
        "print(matriz_np)\n",
        "\n",
        "filas_np=matriz_np.shape[0]\n",
        "print(\"Numeros de filas a sumar entre 1 y \",filas)\n",
        "num1=int(input(\"Ingrese la posición  de la primer fila a sumar : \"))\n",
        "num2=int(input(\"Ingrese la posición de la segunda fila a sumar : \"))\n",
        "suma_vector=matriz_np[num1-1]+matriz_np[num2-1]\n",
        "print(suma_vector)"
      ],
      "metadata": {
        "id": "1mtrMEabP-oo"
      },
      "id": "1mtrMEabP-oo",
      "execution_count": null,
      "outputs": []
    },
    {
      "cell_type": "markdown",
      "source": [
        "\n",
        "**Ejercicio 4:**\n",
        "\n",
        "\n",
        "A continuación se muestran los valores de  los siguientes productos:\n",
        "\n",
        "['arroz', 'harina','fideo','yerba','azucar']=[145.6 , 100 , 89.90 , 700 , 95]\n",
        "\n",
        "Los valores de estos productos son aproximados de hace dos meses, debido a la inflación y alza de los precios, se vieron afectados de la siguiente manera:\n",
        "*   Producto arroz , harina, azucar duplicaron su precio\n",
        "*   Productos restantes incrementaron en un 75% su precio\n",
        "\n",
        "Mostrar los datos en forma de vector y actualizar sus precios, de manera que se pueda comparar ambos vectores."
      ],
      "metadata": {
        "id": "zOCJT7aV9vZC"
      },
      "id": "zOCJT7aV9vZC"
    },
    {
      "cell_type": "code",
      "source": [
        "import numpy as np\n",
        "\n",
        "                       #arroz,harina,fideo,yerba,azucar\n",
        "vector_viejo=np.array([145.6,100,89.90,700,95])\n",
        "\n",
        "vector_nuevo=vector_viejo.copy()\n",
        "\n",
        "vector_nuevo[0]=vector_nuevo[0] *2\n",
        "vector_nuevo[1]=vector_nuevo[1] *2\n",
        "vector_nuevo[4]=vector_nuevo[4]*2\n",
        "\n",
        "vector_nuevo[2]=vector_nuevo[2]*1.75\n",
        "vector_nuevo[3]=vector_nuevo[3]*1.75\n",
        "\n",
        "for i in range(vector_viejo.shape[0]):\n",
        "  print(\"Antiguo precio: \",vector_viejo[i],\" Precio nuevo: \",vector_nuevo[i])"
      ],
      "metadata": {
        "id": "pXpz983qP_LB"
      },
      "id": "pXpz983qP_LB",
      "execution_count": null,
      "outputs": []
    },
    {
      "cell_type": "markdown",
      "source": [
        "***EJERCICIO 5***\n",
        "\n",
        "Completar la siguiente tabla de comandos y funciones que se utilizarán sobre vectores definidos a través de Numpy\n",
        "\n",
        "|    | Comando | operación y funcionalidad |resultado | ejemplo |\n",
        "|---|    ---   |               ---         |    ---   |    ---  |\n",
        "1   | np.array([lista])|     Crea un vector o tabla con Numpy  |  matriz   |np.array([1.6, 2, 0, 6.75])\n",
        "2   |np.sqrt(vector)|       Calcula la raíz cuadrada de cada elemento del vector   | Un vector con la raiz cuadrada de cada elemento  |  np.sqrt(vector_np)\n",
        "3   |np.random.rand(n)|     Crea array del tamaño indicado con números aleatorios   |  Un arreglo con numeros aleatorios | np.random.rand(5)\n",
        "4   |np.ones((n))|          Crea y devuelve un array de unos, con las dimensiones especificadas  | Un array con todos sus elementos con valor 1  | np.ones((3))\n",
        "5   |np.zeros((n))|         Crea y devuelve array de ceros, con las dimensiones especificadas   |  Un array con todos sus elementos con valor cero | np.zeros((3))\n",
        "6   | np.min(array)|        Permite obtener el mínimo de elementos de los valores del matriz   | Valor numérico mínimo de la matriz| np.min(vector_np)\n",
        "7   | np.max(array)|   Permite obtener el valor máximo en una matriz   |Valor numérico máximo de la matriz| np.max(vector_np)\n",
        "8   | np.where(CONDICIÓN SOBRE EL VECTOR)| Comprueba los elementos de un array de entrada y genera una salida según la condición especificada |Un vector cuyos elementos cumplen con la condicion especificada|np.where(vector_np>1)\n",
        "9   |np.random.shuffle(MATRIZ)|  Mezcla las filas de la matriz para obtener una distribución aleatoria de los datos  | Una matriz con las filas de la matriz original cambiadas de orden | VER EJERCICIO PARTE 2\n",
        "10  |array.shape[n], n=0,1 |   Si se pasa un 1 devuelve la cantidad de columnas de la matriz, si se pasa un 0 la cantidad de filas de la matriz    | Valor entero que indica ya sea la cantidad de filas o la cantidad de columnas de la matriz  | VER EJERCICIO PARTE 2\n",
        "11  |np.sum(array, axis=n), n=0,1|  Devuelve la suma acumulada de los valores de un array a lo largo de los ejes especificados.Si axis=1 suma por filas , si axis=0 suma por columnas  | Arreglo con la suma de elementos del arreglo original.Si el eje evale 0 trae la suma de las columnas, si el eje vale 1 es la suma de las filas  |VER EJERCICIO PARTE 1\n",
        "12  |np.arange(a, b, p)|  Crea y devuelve una referencia a un array de una dimensión cuyos elementos toman valores entre el valor inicio a hasta el valor fin b, se puede especifiar un incremento o salto p entre los valores | Un arreglo con valores numericos comprendidos entre el valor inicio y fin |np.arange(0, 10, 0.1) VER EJERCICIOS PARTE 3\n",
        "\n",
        "\n"
      ],
      "metadata": {
        "id": "zNFELZiHwE4O"
      },
      "id": "zNFELZiHwE4O"
    },
    {
      "cell_type": "markdown",
      "metadata": {
        "id": "eXzkUDjx-o6u"
      },
      "source": [
        "#  Funciones matemáticas sobre vectores\n",
        "En esta sección, se aplican funciones matemáticas a un vector utilizando Python puro y NumPy. Luego, se imprime el resultado de cada función.\n",
        "\n",
        "**ACLARACIÓN:** Estas funciones utilizan funciones y operaciones elementales matemáticas, sobre cada una de las posiciones del vector. Pero en general, se pueden definir funciones matemáticas que relacionan diferentes posiciones de un vector."
      ],
      "id": "eXzkUDjx-o6u"
    },
    {
      "cell_type": "code",
      "execution_count": null,
      "metadata": {
        "id": "t12Cq_uD-o6u"
      },
      "outputs": [],
      "source": [
        "import math\n",
        "vector_py = [1, 2, 3, 4, 5]\n",
        "vector_np = np.array([1, 2, 3, 4, 5])\n",
        "raiz_cuadrada_py = [math.sqrt(x) for x in vector_py]\n",
        "vector_cuad=[(x**2) for x in vector_np]\n",
        "vector_log=[math.log(x) for x in vector_np]\n",
        "raiz_cuadrada_np = np.sqrt(vector_np)\n",
        "vector_npLog=np.log(vector_np)\n",
        "print(\"Raíz cuadrada en Python puro:\", raiz_cuadrada_py)\n",
        "print(\"Raíz cuadrada en NumPy:\", raiz_cuadrada_np)\n",
        "print('Vector al cuadrado en Python: ',vector_cuad)\n",
        "print('logaritmo de un Vector en Python: ',vector_log)\n",
        "print('logaritmo de un Vector en Numpy: ',vector_npLog)"
      ],
      "id": "t12Cq_uD-o6u"
    },
    {
      "cell_type": "markdown",
      "metadata": {
        "id": "bry8WTMN-o6v"
      },
      "source": [
        "####  Rendimiento\n",
        "En esta celda, se mide el rendimiento de operaciones en un vector utilizando Python puro y NumPy. Se imprime el tiempo de ejecución de cada operación."
      ],
      "id": "bry8WTMN-o6v"
    },
    {
      "cell_type": "code",
      "execution_count": null,
      "metadata": {
        "id": "JabuzFhf-o6v"
      },
      "outputs": [],
      "source": [
        "import time\n",
        "vector_py = [i for i in range(1000000)]\n",
        "vector_np = np.arange(1000000)\n",
        "\n",
        "start_time = time.time()\n",
        "[x * 2 for x in vector_py]\n",
        "end_time = time.time()\n",
        "print(\"Tiempo en Python puro:\", end_time - start_time, \"segundos\")\n",
        "\n",
        "start_time = time.time()\n",
        "end_time = time.time()\n",
        "print(\"Tiempo en NumPy:\", end_time - start_time, \"segundos\")"
      ],
      "id": "JabuzFhf-o6v"
    },
    {
      "cell_type": "markdown",
      "metadata": {
        "id": "iqiM6a2i-o6x"
      },
      "source": [
        "## Redimensionar un NumPy\n",
        "A continuación se presentan dos ejemplos de redimensionamiento de un NumPy:"
      ],
      "id": "iqiM6a2i-o6x"
    },
    {
      "cell_type": "markdown",
      "metadata": {
        "id": "fkDQpzMo-o6x"
      },
      "source": [
        "#### Redimensionamiento 1\n",
        "En esta celda, se crea un NumPy 'array' y se utiliza la función reshape() de NumPy para redimensionarlo a una forma diferente. Luego, se imprime el nuevo array."
      ],
      "id": "fkDQpzMo-o6x"
    },
    {
      "cell_type": "code",
      "execution_count": null,
      "metadata": {
        "colab": {
          "base_uri": "https://localhost:8080/"
        },
        "id": "zg5ygnQ6-o6x",
        "outputId": "fbf2069d-4f6c-41c1-889a-203cfce97306"
      },
      "outputs": [
        {
          "output_type": "stream",
          "name": "stdout",
          "text": [
            "Nuevo array redimensionado: [[1 2 3]\n",
            " [4 5 6]]\n"
          ]
        }
      ],
      "source": [
        "array = np.array([1, 2, 3, 4, 5, 6])\n",
        "nuevo_array = array.reshape((2, 3))\n",
        "print(\"Nuevo array redimensionado:\", nuevo_array)"
      ],
      "id": "zg5ygnQ6-o6x"
    },
    {
      "cell_type": "markdown",
      "metadata": {
        "id": "2xfwP-s5-o6x"
      },
      "source": [
        "#### Redimensionamiento 2\n",
        "En esta celda, se crea un NumPy 'array' y se utiliza la función np.resize() de NumPy para redimensionarlo a una forma diferente. Luego, se imprime el nuevo array."
      ],
      "id": "2xfwP-s5-o6x"
    },
    {
      "cell_type": "code",
      "execution_count": null,
      "metadata": {
        "colab": {
          "base_uri": "https://localhost:8080/"
        },
        "id": "cNbF-5i3-o6x",
        "outputId": "2fb47753-1cd8-48d8-d2b2-9f00394fbbd0"
      },
      "outputs": [
        {
          "output_type": "stream",
          "name": "stdout",
          "text": [
            "Nuevo array redimensionado: [[1 2 3]\n",
            " [4 5 6]\n",
            " [1 2 3]]\n"
          ]
        }
      ],
      "source": [
        "array = np.array([1, 2, 3, 4, 5, 6])\n",
        "nuevo_array = np.resize(array, (3, 3))\n",
        "print(\"Nuevo array redimensionado:\", nuevo_array)"
      ],
      "id": "cNbF-5i3-o6x"
    },
    {
      "cell_type": "markdown",
      "source": [
        "# ***EJERCICIOS PARTE 2***\n",
        "\n",
        "**Ejercicio 1:**\n",
        "\n",
        "Dado una matriz de datos, dividir el 70% de filas en un array_entrenamiento y el otro 30% en otro array_testeo. Esta distribución de filas de la matriz inicial, debe ser aleatoria. Mostrar las matrices al ser modificadas por el comando np.random.shuffle('matriz'). Finalmente mostrar los array_entrenamiento y array_testeo."
      ],
      "metadata": {
        "id": "2hHxd6eg6w1u"
      },
      "id": "2hHxd6eg6w1u"
    },
    {
      "cell_type": "code",
      "source": [
        "import numpy as np\n",
        "dataset = np.array([[25, 1, 7, 100, 1],\n",
        "                    [30, 2, 5, 120, 0],\n",
        "                    [22, 1, 6, 80, 1],\n",
        "                    [28, 1, 6, 90, 0],\n",
        "                    [35, 2, 4, 130, 1],\n",
        "                    [32, 2, 6, 110, 1],\n",
        "                    [26, 1, 8, 95, 1],\n",
        "                    [24, 1, 5, 85, 0],\n",
        "                    [29, 2, 7, 115, 1],\n",
        "                    [31, 2, 6, 105, 0]])\n",
        "\n",
        "# Mezclar las filas de la matriz para obtener una distribución aleatoria de los datos\n",
        "np.random.shuffle(dataset)\n",
        "print( dataset)\n",
        "\n",
        "#dividimos la matriz en dos partes\n",
        "# 70 por ciento de filas para el array_entrenamiento\n",
        "# y el resto de filas para el array_testeo\n",
        "\n",
        "\n",
        "cantidad_filas=dataset.shape[0]\n",
        "\n",
        "filas_array=int(cantidad_filas*0.70)\n",
        "\n",
        "\n",
        "array_entrenamiento=dataset[0:filas_array]\n",
        "array_testeo=dataset[filas_array:]\n",
        "\n",
        "#mostramos ambas matrices tanto en su version original como mezcladas\n",
        "\n",
        "print(\"Array de entrenamiento original \")\n",
        "print(array_entrenamiento)\n",
        "\n",
        "print(\"Array de entrenamiento mezclado \")\n",
        "np.random.shuffle(array_entrenamiento)\n",
        "print(array_entrenamiento)\n",
        "\n",
        "\n",
        "print(\"Array de testeo original\")\n",
        "print(array_testeo)\n",
        "\n",
        "print(\"Array de testeo mezclado \")\n",
        "np.random.shuffle(array_testeo)\n",
        "print(array_testeo)"
      ],
      "metadata": {
        "id": "pzZwS3lF6M-6",
        "colab": {
          "base_uri": "https://localhost:8080/"
        },
        "outputId": "a782d663-53a7-4bc1-eda8-4bc9d6bf64de"
      },
      "execution_count": 7,
      "outputs": [
        {
          "output_type": "stream",
          "name": "stdout",
          "text": [
            "[[ 32   2   6 110   1]\n",
            " [ 31   2   6 105   0]\n",
            " [ 29   2   7 115   1]\n",
            " [ 30   2   5 120   0]\n",
            " [ 26   1   8  95   1]\n",
            " [ 22   1   6  80   1]\n",
            " [ 35   2   4 130   1]\n",
            " [ 28   1   6  90   0]\n",
            " [ 24   1   5  85   0]\n",
            " [ 25   1   7 100   1]]\n",
            "Array de entrenamiento original \n",
            "[[ 32   2   6 110   1]\n",
            " [ 31   2   6 105   0]\n",
            " [ 29   2   7 115   1]\n",
            " [ 30   2   5 120   0]\n",
            " [ 26   1   8  95   1]\n",
            " [ 22   1   6  80   1]\n",
            " [ 35   2   4 130   1]]\n",
            "Array de entrenamiento mezclado \n",
            "[[ 30   2   5 120   0]\n",
            " [ 35   2   4 130   1]\n",
            " [ 32   2   6 110   1]\n",
            " [ 29   2   7 115   1]\n",
            " [ 22   1   6  80   1]\n",
            " [ 26   1   8  95   1]\n",
            " [ 31   2   6 105   0]]\n",
            "Array de testeo original\n",
            "[[ 28   1   6  90   0]\n",
            " [ 24   1   5  85   0]\n",
            " [ 25   1   7 100   1]]\n",
            "Array de testeo mezclado \n",
            "[[ 25   1   7 100   1]\n",
            " [ 28   1   6  90   0]\n",
            " [ 24   1   5  85   0]]\n"
          ]
        }
      ],
      "id": "pzZwS3lF6M-6"
    },
    {
      "cell_type": "markdown",
      "source": [
        "**Ejercicio 2:**\n",
        "\n",
        "Dado la siguiente tabla de datos poblaciones de las Provincias de Argentina (Ejercicio 10 del Práctico 1), Realizar el siguiente analisis.\n",
        "\n",
        "\n",
        "\n",
        "*   indicar la cantidad de filas y columnas que posee la tabla de datos.\n",
        "*   Mostrar toda la información de la provincia con Mayor Cantidad de habitantes. AYUDA: usar la función np.max(array)\n",
        "*   Agregar a la tabla de datos una fila al final , indicando los totales de cada columna. Mostrar el resultado de la nueva tabla.\n",
        "\n"
      ],
      "metadata": {
        "id": "9WqSL4cG7LhH"
      },
      "id": "9WqSL4cG7LhH"
    },
    {
      "cell_type": "code",
      "source": [
        "\n",
        "import numpy as np\n",
        "\n",
        "def sacar_punto_y_convertir_int(val):\n",
        "  num = val.replace(\".\",\"\")\n",
        "  return int(num) if num != ' s/d ' else 0\n",
        "\n",
        "\n",
        "\n",
        "\n",
        "poblacionArgentina1=[\n",
        "    ['PROVINCIA','CANTIDAD DE HABITANTES','CONSUMO EN MWH','SUPERFICIE EN KM^2'],\n",
        "    ['Buenos Aires','17.569.053',' 16543722',' 305907'],\n",
        "    ['Córdoba','3.978.984',' 10606601','164708'],\n",
        "    ['Santa Fe','3.556.522',' 13078203',' 133249'],\n",
        "    ['Ciudad Autónoma de Buenos Aires','3.120.612','51712507',' 201'],\n",
        "    ['Mendoza','2.014.533',' 5652519',' 149069'],\n",
        "    ['Tucumán','1.703.186','3208711','22.524'],\n",
        "    ['Salta','1.440.672',' 2214796',' 155341'],\n",
        "    ['Entre Ríos','1.426.426','3906353','78384'],\n",
        "    ['Misiones','1.280.960','2845762',' 29911'],\n",
        "    ['Corrientes','1.197.553','2997612',' 89123'],\n",
        "    ['Chaco','1.142.963','3045380',' 99763'],\n",
        "    ['Santiago del Estero','1.054.028',' 1811277',' 136934'],\n",
        "    ['San Juan','818.234',' 2381940',' 88296'],\n",
        "   ['Jujuy','797.955',' 1136336',' 53244'],\n",
        "   ['Río Negro','762.067',' 1984782','202169'],\n",
        "   ['Neuquén','726.590','1834879',' 94422'],\n",
        "   ['Formosa','606.041',' 1388311','75488'],\n",
        "   ['Chubut','603.120','1646029',' 224302'],\n",
        "   ['San Luis','540.905',' 1780881','75347'],\n",
        "   ['Catamarca','429.556',' 1337032','101486'],\n",
        "   ['La Rioja','384.607','1572290',' 91494'],\n",
        "   ['La Pampa','366.022','915781',' 143493'],\n",
        "   ['Santa Cruz','333.473',' 1025648',' 244458'],\n",
        "   ['Tierra del Fuego, Antártida e Islas del Atlántico Sur','190.641',' s/d ',' 37131']]\n",
        "\n",
        "poblacionArgentina=np.array(poblacionArgentina1)\n",
        "\n",
        "\n",
        "fila, columna= np.shape(poblacionArgentina)\n",
        "\n",
        "print(f'La cantidad de filas son: {fila} y la cantidad de columnas son: {columna}')\n",
        "\n",
        "\n",
        "hab =[sacar_punto_y_convertir_int(cant_hab) for cant_hab in poblacionArgentina[1:,1]]\n",
        "\n",
        "indice = np.argmax(hab) + 1\n",
        "\n",
        "print(f'La provincia con mas habitantes es: {poblacionArgentina[indice]}')\n",
        "\n",
        "consumo =[sacar_punto_y_convertir_int(cant_consumo) for cant_consumo in poblacionArgentina[1:,2]]\n",
        "\n",
        "superficie =[sacar_punto_y_convertir_int(cant_sup) for cant_sup in poblacionArgentina[1:,3]]\n",
        "\n",
        "sumHab = sum(hab)\n",
        "sumCons=sum(consumo)\n",
        "sumSup = sum(superficie)\n",
        "\n",
        "poblacionArg = np.insert(poblacionArgentina, poblacionArgentina.shape[0], np.array(('Totales:',sumHab, sumCons, sumSup)), 0)\n",
        "\n",
        "print(poblacionArg)\n",
        "\n"
      ],
      "metadata": {
        "id": "5h1AALwz8Eqo",
        "colab": {
          "base_uri": "https://localhost:8080/"
        },
        "outputId": "b75e4a2c-4d33-47f7-e455-7fe34ef996e4"
      },
      "id": "5h1AALwz8Eqo",
      "execution_count": 6,
      "outputs": [
        {
          "output_type": "stream",
          "name": "stdout",
          "text": [
            "La cantidad de filas son: 25 y la cantidad de columnas son: 4\n",
            "La provincia con mas habitantes es: ['Buenos Aires' '17.569.053' ' 16543722' ' 305907']\n",
            "[['PROVINCIA' 'CANTIDAD DE HABITANTES' 'CONSUMO EN MWH'\n",
            "  'SUPERFICIE EN KM^2']\n",
            " ['Buenos Aires' '17.569.053' ' 16543722' ' 305907']\n",
            " ['Córdoba' '3.978.984' ' 10606601' '164708']\n",
            " ['Santa Fe' '3.556.522' ' 13078203' ' 133249']\n",
            " ['Ciudad Autónoma de Buenos Aires' '3.120.612' '51712507' ' 201']\n",
            " ['Mendoza' '2.014.533' ' 5652519' ' 149069']\n",
            " ['Tucumán' '1.703.186' '3208711' '22.524']\n",
            " ['Salta' '1.440.672' ' 2214796' ' 155341']\n",
            " ['Entre Ríos' '1.426.426' '3906353' '78384']\n",
            " ['Misiones' '1.280.960' '2845762' ' 29911']\n",
            " ['Corrientes' '1.197.553' '2997612' ' 89123']\n",
            " ['Chaco' '1.142.963' '3045380' ' 99763']\n",
            " ['Santiago del Estero' '1.054.028' ' 1811277' ' 136934']\n",
            " ['San Juan' '818.234' ' 2381940' ' 88296']\n",
            " ['Jujuy' '797.955' ' 1136336' ' 53244']\n",
            " ['Río Negro' '762.067' ' 1984782' '202169']\n",
            " ['Neuquén' '726.590' '1834879' ' 94422']\n",
            " ['Formosa' '606.041' ' 1388311' '75488']\n",
            " ['Chubut' '603.120' '1646029' ' 224302']\n",
            " ['San Luis' '540.905' ' 1780881' '75347']\n",
            " ['Catamarca' '429.556' ' 1337032' '101486']\n",
            " ['La Rioja' '384.607' '1572290' ' 91494']\n",
            " ['La Pampa' '366.022' '915781' ' 143493']\n",
            " ['Santa Cruz' '333.473' ' 1025648' ' 244458']\n",
            " ['Tierra del Fuego, Antártida e Islas del Atlántico Sur' '190.641'\n",
            "  ' s/d ' ' 37131']\n",
            " ['Totales:' '46044703' '134627352' '2796444']]\n"
          ]
        }
      ]
    },
    {
      "cell_type": "markdown",
      "metadata": {
        "id": "lQwZW6nj-o67"
      },
      "source": [
        "# Ploteo de datos con Matplotlib\n",
        "A continuación se presentan ejemplos de diferentes tipos de gráficos utilizando Matplotlib:"
      ],
      "id": "lQwZW6nj-o67"
    },
    {
      "cell_type": "markdown",
      "metadata": {
        "id": "W6xs2svw-o67"
      },
      "source": [
        "## Gráfica de funciones matemáticas elementales\n",
        "En esta celda, se crea un array 'x' con valores en el rango de 0 a 10 y se utiliza la función np.sin() y np.cos() de NumPy para calcular el seno y coseno de cada valor en 'x'. Luego, se utiliza la biblioteca Matplotlib para trazar un gráfico de línea con 'x' en el eje x y 'y' en el eje y. También se agrega etiquetas y un título al gráfico."
      ],
      "id": "W6xs2svw-o67"
    },
    {
      "cell_type": "code",
      "execution_count": null,
      "metadata": {
        "colab": {
          "base_uri": "https://localhost:8080/",
          "height": 284
        },
        "id": "GQGdYmNN-o67",
        "outputId": "85ff9e91-3d9c-44e5-a5c3-cb2b12fc097c"
      },
      "outputs": [
        {
          "output_type": "display_data",
          "data": {
            "text/plain": [
              "<Figure size 640x480 with 1 Axes>"
            ],
            "image/png": "[encoded data removed]"
          },
          "metadata": {}
        }
      ],
      "source": [
        "import matplotlib.pyplot as plt\n",
        "\n",
        "x = np.arange(0, 10, 0.1)\n",
        "y = np.cos(x)\n",
        "\n",
        "plt.plot(x, y)\n",
        "plt.xlabel('x')\n",
        "plt.ylabel('y')\n",
        "plt.title('Gráfico de línea')\n",
        "plt.show()"
      ],
      "id": "GQGdYmNN-o67"
    },
    {
      "cell_type": "markdown",
      "source": [
        "# ***EJERCICIOS PARTE 3***\n",
        "\n",
        "Realizar las gráficas de als siguientes expresiones matemáticas. Determinar el dominio del eje x adecuado para plotear las funciones de manera que se visualice su comportamiento.\n",
        "\n",
        "\n",
        "*  $ y= 3x -2$\n",
        "*   $y= 2x^2+4x+2 $\n",
        "*   $y= \\vert x\\vert= \\begin{cases}-x & x < 0 \\\\ x & x\\ge 0                       \\end{cases}$\n",
        "*   $y= 1/x$\n",
        "*   $y=\\sqrt x$\n",
        "\n",
        "\n"
      ],
      "metadata": {
        "id": "Q0dztL-66aVb"
      },
      "id": "Q0dztL-66aVb"
    },
    {
      "cell_type": "code",
      "source": [
        "import matplotlib.pyplot as plt\n",
        "import numpy as np\n",
        "# Creamos valores de x en el rango de -5 a 5\n",
        "x = np.linspace(-5, 5, 100) #crea un array x que contiene 100 puntos igualmente espaciados en el intervalo entre 5 y -5\n",
        "\n",
        "# Calculamos los valores de y utilizando la función solicitada\n",
        "y = 3 * x - 2\n",
        "\n",
        "# Creamos una figura y ejes para el gráfico\n",
        "fig, ax = plt.subplots()\n",
        "\n",
        "# graficamos la función y = 3x - 2\n",
        "ax.plot(x, y, label='y = 3x - 2')\n",
        "\n",
        "# Agregamos las etiquetas para los ejes y el título\n",
        "ax.set_xlabel('x')\n",
        "ax.set_ylabel('y')\n",
        "ax.set_title('Gráfico de la función y = 3x - 2')\n",
        "\n",
        "# Mostramos la leyenda\n",
        "ax.legend()\n",
        "\n",
        "# Agregamos una grilla de fondo y mostramos el grafico\n",
        "plt.grid(True)\n",
        "plt.show()"
      ],
      "metadata": {
        "id": "ff7OEm_Hvk2p",
        "colab": {
          "base_uri": "https://localhost:8080/",
          "height": 472
        },
        "outputId": "ad6d5c77-1f01-4ba3-cd0b-a3876141fbf5"
      },
      "id": "ff7OEm_Hvk2p",
      "execution_count": 2,
      "outputs": [
        {
          "output_type": "display_data",
          "data": {
            "text/plain": [
              "<Figure size 640x480 with 1 Axes>"
            ],
            "image/png": "[encoded data removed]"
          },
          "metadata": {}
        }
      ]
    },
    {
      "cell_type": "code",
      "source": [
        "import matplotlib.pyplot as plt\n",
        "import numpy as np\n",
        "\n",
        "x = np.linspace(-5, 5)\n",
        "y = 2 * x ** 2 + 4 * x + 2\n",
        "\n",
        "\n",
        "fig, ax = plt.subplots()\n",
        "\n",
        "ax.plot(x, y, label='y = 2x^2+4x+2')\n",
        "\n",
        "# Agregamos etiquetas de ejes y título\n",
        "ax.set_xlabel('x')\n",
        "ax.set_ylabel('y')\n",
        "ax.set_title('Gráfico de la función y = 2x^2+4x+2')\n",
        "\n",
        "# Mostramos la leyenda\n",
        "ax.legend()\n",
        "\n",
        "# Agregamos una grilla de fondo y mostramos el grafico\n",
        "plt.grid(True)\n",
        "plt.show()"
      ],
      "metadata": {
        "id": "8GsNh6SEjSnZ",
        "colab": {
          "base_uri": "https://localhost:8080/",
          "height": 472
        },
        "outputId": "ff94a0d4-58b9-4fa1-bdc0-aba44a190114"
      },
      "id": "8GsNh6SEjSnZ",
      "execution_count": 1,
      "outputs": [
        {
          "output_type": "display_data",
          "data": {
            "text/plain": [
              "<Figure size 640x480 with 1 Axes>"
            ],
            "image/png": "[encoded data removed]"
          },
          "metadata": {}
        }
      ]
    },
    {
      "cell_type": "code",
      "source": [
        "import matplotlib.pyplot as plt\n",
        "import numpy as np\n",
        "\n",
        "x = np.linspace(-10, 10)\n",
        "y = np.abs(x)\n",
        "\n",
        "fig, ax = plt.subplots()\n",
        "\n",
        "ax.plot(x, y, label='y = |x|')\n",
        "\n",
        "# Agregamos etiquetas de ejes y título\n",
        "ax.set_xlabel('x')\n",
        "ax.set_ylabel('y')\n",
        "ax.set_title('Gráfico de la función y = |x|')\n",
        "\n",
        "# Mostramos la leyenda\n",
        "ax.legend()\n",
        "\n",
        "# Agregamos una grilla de fondo y mostramos el grafico\n",
        "plt.grid(True)\n",
        "plt.show()"
      ],
      "metadata": {
        "id": "2jphSSkBjdDx",
        "colab": {
          "base_uri": "https://localhost:8080/",
          "height": 472
        },
        "outputId": "76e97817-04dd-45e7-e03a-ce78b0b255b8"
      },
      "id": "2jphSSkBjdDx",
      "execution_count": 3,
      "outputs": [
        {
          "output_type": "display_data",
          "data": {
            "text/plain": [
              "<Figure size 640x480 with 1 Axes>"
            ],
            "image/png": "[encoded data removed]"
          },
          "metadata": {}
        }
      ]
    },
    {
      "cell_type": "code",
      "source": [
        "import matplotlib.pyplot as plt\n",
        "import numpy as np\n",
        "\n",
        "x = np.linspace(-5, 5,100)\n",
        "y = 1 / x\n",
        "\n",
        "fig, ax = plt.subplots()\n",
        "\n",
        "ax.plot(x, y, label='y = 1 / x')\n",
        "\n",
        "# Agregar etiquetas de ejes y título\n",
        "ax.set_xlabel('x')\n",
        "ax.set_ylabel('y')\n",
        "ax.set_title('Gráfico de la función y = 1 / x')\n",
        "\n",
        "# Mostramos la leyenda\n",
        "ax.legend()\n",
        "\n",
        "# Agregamos una grilla de fondo y mostramos el grafico\n",
        "plt.grid(True)\n",
        "plt.show()"
      ],
      "metadata": {
        "id": "CPBqGgUDkNAa",
        "colab": {
          "base_uri": "https://localhost:8080/",
          "height": 472
        },
        "outputId": "622778a0-f0d4-42d9-8dd4-994c37574ec6"
      },
      "id": "CPBqGgUDkNAa",
      "execution_count": 4,
      "outputs": [
        {
          "output_type": "display_data",
          "data": {
            "text/plain": [
              "<Figure size 640x480 with 1 Axes>"
            ],
            "image/png": "[encoded data removed]"
          },
          "metadata": {}
        }
      ]
    },
    {
      "cell_type": "code",
      "source": [
        "\n",
        "import matplotlib.pyplot as plt\n",
        "import numpy as np\n",
        "# Creamos valores de x en el rango de -5 a 5\n",
        "x = np.linspace(0, 5, 100) #crea un array x que contiene 100 puntos igualmente espaciados en el intervalo entre 5 y -5\n",
        "\n",
        "# Calculamos los valores de y utilizando la función solicitada\n",
        "y = np.sqrt(x)\n",
        "\n",
        "# Creamos una figura y ejes para el gráfico\n",
        "fig, ax = plt.subplots()\n",
        "\n",
        "# graficamos la función y = 3x - 2\n",
        "ax.plot(x, y, label='y = √x')\n",
        "\n",
        "# Agregamos las etiquetas para los ejes y el título\n",
        "ax.set_xlabel('x')\n",
        "ax.set_ylabel('y')\n",
        "ax.set_title('Gráfico de la función y= √x')\n",
        "\n",
        "# Mostramos la leyenda\n",
        "ax.legend()\n",
        "\n",
        "# Agregamos una grilla de fondo y mostramos el grafico\n",
        "plt.grid(True)\n",
        "plt.show()"
      ],
      "metadata": {
        "id": "Qlm-1nT-k9ic",
        "colab": {
          "base_uri": "https://localhost:8080/",
          "height": 472
        },
        "outputId": "01911a92-db60-47bd-c45b-f7eefc9f5313"
      },
      "id": "Qlm-1nT-k9ic",
      "execution_count": 5,
      "outputs": [
        {
          "output_type": "display_data",
          "data": {
            "text/plain": [
              "<Figure size 640x480 with 1 Axes>"
            ],
            "image/png": "[encoded data removed]"
          },
          "metadata": {}
        }
      ]
    }
  ],
  "metadata": {
    "kernelspec": {
      "display_name": "Python 3",
      "language": "python",
      "name": "python3"
    },
    "language_info": {
      "codemirror_mode": {
        "name": "ipython",
        "version": 3
      },
      "file_extension": ".py",
      "mimetype": "text/x-python",
      "name": "python",
      "nbconvert_exporter": "python",
      "pygments_lexer": "ipython3",
      "version": "3.11.1"
    },
    "colab": {
      "provenance": [],
      "include_colab_link": true
    }
  },
  "nbformat": 4,
  "nbformat_minor": 5
}
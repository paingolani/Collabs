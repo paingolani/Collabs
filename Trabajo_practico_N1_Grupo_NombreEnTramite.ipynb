{
  "cells": [
    {
      "cell_type": "markdown",
      "metadata": {
        "id": "view-in-github",
        "colab_type": "text"
      },
      "source": [
        "<a href=\"https://colab.research.google.com/github/paingolani/Collabs/blob/main/Trabajo_practico_N1_Grupo_NombreEnTramite.ipynb\" target=\"_parent\"><img src=\"https://colab.research.google.com/assets/colab-badge.svg\" alt=\"Open In Colab\"/></a>"
      ]
    },
    {
      "cell_type": "markdown",
      "metadata": {
        "id": "PU0V5R5rNsne"
      },
      "source": [
        "# ***TRABAJO INTEGRADOR APLICADO N 1***"
      ]
    },
    {
      "cell_type": "markdown",
      "metadata": {
        "id": "X90tq7dPHk2d"
      },
      "source": [
        "Listado de Integrantes\n",
        "\n",
        "\n",
        "*   Daniel Alejandro Buzzi              daniel.buzzi@gmail.com, danibuzzi@yahoo.com\n",
        "*   Lucas Fabian Cingolani              cingolanilucas@gmail.com\n",
        "*   Patricio Agustín Silvera            patriciosilvera209@gmail.com\n",
        "*   Federico Andrés Pereyra             fedepereyra10@gmail.com\n",
        "*   Alejandra Elizabeth Alzuri          alealzuri0307@gmail.com\n",
        "*"
      ]
    },
    {
      "cell_type": "markdown",
      "metadata": {
        "id": "kwBfCKCRNyxc"
      },
      "source": [
        "**EJERCICIO 1**\n",
        "\n",
        "Determinar si un numero ingresado por el usuario es PAR"
      ]
    },
    {
      "cell_type": "code",
      "execution_count": null,
      "metadata": {
        "id": "GQTTVZuMHlpt"
      },
      "outputs": [],
      "source": [
        "numero=int(input(\"Ingrese el numero a comparar: \"))\n",
        "if (numero%2==0):\n",
        "  print(\"El numero \",numero,\" es par\")\n",
        "else:\n",
        "  print(\"El numero \",numero,\" es impar\")"
      ]
    },
    {
      "cell_type": "markdown",
      "metadata": {
        "id": "KKY6JsexOCUy"
      },
      "source": [
        "**EJERCICIO 2**\n",
        "\n",
        "Determinar si un numero ingresado por el usuario esta DENTRO DEL RANGO [1,10] y es par. MUESTRE UN MENSAJE EN CASO CONTRARIO 'NÚMERO FUERA DEL RANGO'"
      ]
    },
    {
      "cell_type": "code",
      "source": [
        "num = int(input(\"Ingrese Numero: \"))\n",
        "\n",
        "if num >= 1 and num <= 10:\n",
        "   if num%2 == 0:\n",
        "      print('El numero ingresado es Par')\n",
        "   else:\n",
        "      print('Numero  Impar y fuera de rango')\n",
        "else:\n",
        "   print('Numero fuera de rango')"
      ],
      "metadata": {
        "colab": {
          "base_uri": "https://localhost:8080/"
        },
        "id": "AC-fTwYrpcVT",
        "outputId": "159576f1-bdff-44a0-fc9f-4eba97812d02"
      },
      "execution_count": null,
      "outputs": [
        {
          "output_type": "stream",
          "name": "stdout",
          "text": [
            "Ingrese Numero: 4\n",
            "El numero ingresado es Par\n"
          ]
        }
      ]
    },
    {
      "cell_type": "markdown",
      "metadata": {
        "id": "cfitfYKpQK2O"
      },
      "source": [
        "**EJERCICIO 3 CICLO FOR**\n",
        "\n",
        "\n",
        "Solicitar al usuario que ingrese 10 números. Calcule la suma de todos los números ingresados y  cuente cuántos de ellos son par.\n"
      ]
    },
    {
      "cell_type": "code",
      "execution_count": null,
      "metadata": {
        "id": "2lrpu4UVFWz-"
      },
      "outputs": [],
      "source": [
        "pares=0\n",
        "suma=0\n",
        "for i in range(10):\n",
        "  numero=int(input(\"Ingrese un numero \"))\n",
        "  if numero % 2 ==0:\n",
        "     pares+=1\n",
        "  suma+=numero\n",
        "\n",
        "print(\"La suma de los numeros es\",suma)\n",
        "print(\"Hay \",pares,\" numeros pares\")"
      ]
    },
    {
      "cell_type": "markdown",
      "metadata": {
        "id": "7YyBaMyyRh7I"
      },
      "source": [
        "**EJERCICIOS 4**\n",
        "\n",
        "Mostrar todos los números presentes en el rango [56,1230]\n",
        "Solicitar al usuario que ingrese el rango [a,b] y muestre todos los números pertenecientes a él."
      ]
    },
    {
      "cell_type": "code",
      "execution_count": null,
      "metadata": {
        "id": "d5rVlFoPe72D"
      },
      "outputs": [],
      "source": [
        "for i in range (56,1231):\n",
        "  print(i)\n",
        "\n",
        "numB=0\n",
        "numA=(int(input(\"Ingrese el numero a: \")))\n",
        "while (numB<numA):\n",
        "  numB=(int(input(\"Ingrese el numero b: \")))\n",
        "print(\"Los numeros presentes entre \",numA, \"y \",numB,\" son:\")\n",
        "for i in range(numA,numB+1):\n",
        "  print(i)"
      ]
    },
    {
      "cell_type": "markdown",
      "metadata": {
        "id": "sCYdUm5DOpPk"
      },
      "source": [
        "**EJERCICIO 5 CICLO WHILE**\n",
        "\n",
        "Solicitar al usuario que ingrese un número, si es negativo o nulo , solicitar reiteradamente hasta que ingrese un numero positivo."
      ]
    },
    {
      "cell_type": "code",
      "execution_count": null,
      "metadata": {
        "id": "9Nnr4JvRjXlh"
      },
      "outputs": [],
      "source": [
        "#mientras el numero ingresado sea cero (nulo) o negativo\n",
        "#se solicita que ingrese un numero positivo\n",
        "# se contempla no ingreso de valor\n",
        "numero=input(\"Ingrese un numero: \")\n",
        "\n",
        "while ((not numero) or (numero<=0)):\n",
        "  numero = input(\"Ingrese un numero positivo:\")\n",
        "  if numero:\n",
        "    numero=int(numero)\n",
        "\n"
      ]
    },
    {
      "cell_type": "markdown",
      "metadata": {
        "id": "Snkm3EDCSb6n"
      },
      "source": [
        "**EJERCICIO 6**\n",
        "\n",
        "Solicitar al usuario que ingrese un número, si el número es positivo , solicitar reiteradamente hasta que ingrese un numero negativo. Luego mostrar dicho número si es par, en caso contrario mostrar un mensaje 'número ingresado impar'."
      ]
    },
    {
      "cell_type": "code",
      "execution_count": null,
      "metadata": {
        "id": "Tmv3n7N3nLve"
      },
      "outputs": [],
      "source": [
        "numero=(int(input(\"Ingrese el numero: \")))\n",
        "while (numero>-1):\n",
        "  numero=(int(input(\"Ingrese el numero: \")))\n",
        "if (numero%2==0):\n",
        "  print(\"El numero \",numero,\" es par\")\n",
        "else:\n",
        "  print(\"El mumero ingresado es impar\")"
      ]
    },
    {
      "cell_type": "markdown",
      "metadata": {
        "id": "sypNigFYS3iU"
      },
      "source": [
        "**EJERCICIO 7 VECTORES CON CICLO FOR**\n",
        "\n",
        "Solicitar al usuario que ingrese la cantidad de elementos del vector.\n",
        "Ingresar cada elemento del vector y calcular su promedio.AYUDA: EL PROMEDIO ES LA SUMA DE TODOS LOS NÚMEROS DIVIDO LA CANTIDAD TOTAL.\n",
        "Mostrar el vector."
      ]
    },
    {
      "cell_type": "code",
      "execution_count": null,
      "metadata": {
        "id": "dmzvx_n78TP5"
      },
      "outputs": [],
      "source": [
        "listaNumeros=[]\n",
        "sumaNumeros=0\n",
        "\n",
        "#solicitamos al usuario la cantidad de elementos del vector\n",
        "elementos=int(input(\"Ingrese la cantidad de elementos del vector \"))\n",
        "for i in range(elementos):\n",
        "  numero=int(input(\"Ingrese el numero \"))\n",
        "  listaNumeros.append(numero)\n",
        "  sumaNumeros+=numero\n",
        "promedio=sumaNumeros/len(listaNumeros)\n",
        "print(\"El promedio de los numeros ingresados es \",promedio)\n"
      ]
    },
    {
      "cell_type": "markdown",
      "metadata": {
        "id": "W15_ajQyULBo"
      },
      "source": [
        "**EJERCICIO 8 LISTA CON CICLO FOR**\n",
        "\n",
        "\n",
        "\n",
        "\n",
        "Solicitar a 10 usuarios que ingresen los siguientes datos en el formato lista.\n",
        "\n",
        "['NOMBRE','APELLIDO', 'DNI','GASTOS MENSUALES DE HOGAR']\n",
        "\n",
        "Ingresar el final de la lista los siguientes usuarios:\n",
        "\n",
        "['ESTEBAN','LOPEZ', '45675400','190800.80']\n",
        "\n",
        "['NOELIA','ALEJA', '46906875','85900.50']\n",
        "\n",
        "Mostrar el vector.\n",
        "Eliminar el primer usuario de la lista."
      ]
    },
    {
      "cell_type": "markdown",
      "metadata": {
        "id": "vHZ23eGsrJe-"
      },
      "source": [
        "para probar como funciona cambien en el for el 10 por 2 y ejecuten ingrese los datos que le pidan y al terminar todo vuelvan a poner 10 en el for"
      ]
    },
    {
      "cell_type": "code",
      "source": [
        "\n",
        "usuarios=[]\n",
        "# vamos ingresando los datos para cada usuario\n",
        "\n",
        "while (len(usuarios)<10):\n",
        "\n",
        "  nombre=input(\"Ingrese el nombre \")\n",
        "  apellido=input(\"Ingrese el apellido \")\n",
        "  dni=input(\"Ingrese el numero de documento \")\n",
        "  gastosMensuales=float(input(\"Ingrese el monto de gastos mensuales \"))\n",
        "\n",
        "  #guardamos los datos del usuario en una lista y lo añadimos a la lista de usuarios\n",
        "  usuario=[nombre,apellido,dni,gastosMensuales]\n",
        "  usuarios.append(usuario)\n",
        "\n",
        "# agregamos al final de la lista los usuarios pedidos por enunciado\n",
        "usuarios.append(['ESTEBAN','LOPEZ', '45675400','190800.80'])\n",
        "usuarios.append(['NOELIA','ALEJA', '46906875','85900.50'])\n",
        "\n",
        "#imprimimos la lista de usuarios\n",
        "print(usuarios)\n",
        "\n",
        "# eliminamos el primer usuario de la lista de usuarios\n",
        "del usuarios[0]\n",
        "\n",
        "print(usuarios)\n"
      ],
      "metadata": {
        "id": "IZhRNNM3i4Q3"
      },
      "execution_count": null,
      "outputs": []
    },
    {
      "cell_type": "markdown",
      "metadata": {
        "id": "5x1DqNkpTWzi"
      },
      "source": [
        "**EJERCICIO 9 LISTA CON CICLO FOR**\n",
        "\n",
        "Buscar en la web los datos pablacionales de todas las provicias de Argentina , generando una lista con los siguiente información.\n",
        "\n",
        "['PROVINCIA','CANTIDAD DE HABITANTES', 'CONSUMO ELECTRICO PER CAPITA','SUPERFICIE EN M^2']\n",
        "\n",
        "\n",
        "\n",
        "Mostrar TODOS LOS DATOS DEL LISTADO.\n",
        "\n"
      ]
    },
    {
      "cell_type": "markdown",
      "metadata": {
        "id": "i-vHT64rNKKA"
      },
      "source": []
    },
    {
      "cell_type": "code",
      "execution_count": null,
      "metadata": {
        "id": "L0qtdfyYRKQv"
      },
      "outputs": [],
      "source": [
        "\n",
        "\n",
        "# lista de provincias [provincia, cantidad habitantes,consumo electrico per capita,superficie  km²]\n",
        "\n",
        "lista_provincias=[\n",
        "\n",
        "['Ciudad Autonoma Buenos Aires',2895000, 1500,200],\n",
        "['Buenos Aires',15625000, 2500, 30757],\n",
        "['Catamarca',367828, 2616, 102602],\n",
        "['Córdoba',3670000, 2883, 165321],\n",
        "['Corrientes',367000, 2200,135321],\n",
        "['Santa Fe', 349500,3033, 133007],\n",
        "['Mendoza', 2007000, 2100, 148827],\n",
        "['Tucumán',1685000, 1900, 22524],\n",
        "['Entre Ríos',1334000, 1800, 78781],\n",
        "['Salta', 1232000, 2000, 155488],\n",
        "['Misiones',1108000, 700, 29801],\n",
        "['San Juan', 850000,  1800, 89651],\n",
        "['Jujuy', 780000,  1600,53219],\n",
        "['Chaco', 1145000,  1700, 99633],\n",
        "['Formosa', 530000,  1500, 72066],\n",
        "['San Luis', 830000,  1900, 76748],\n",
        "['La Pampa', 570000,  2000, 143440],\n",
        "['La Rioja', 33642,  2388, 89680],\n",
        "['Neuquén', 680000,  2100, 94078],\n",
        "['Río Negro', 980000,  2200,203013],\n",
        "['Chubut', 770000,  2300, 224686],\n",
        "['Santa Cruz', 370000,  2400,243943],\n",
        "['Santiago del Estero', 874006, 2450, 136351],\n",
        "['Tierra del Fuego, Antártida e Islas del Atlántico Sur', 160000, 2500, 21263]\n",
        "\n",
        "]\n",
        "\n",
        "\n",
        "for provincia in lista_provincias:\n",
        "  print(provincia[0],provincia[1],\"habitantes\",provincia[2],\"kWh per capita\",provincia[3],\"km²\")"
      ]
    },
    {
      "cell_type": "markdown",
      "metadata": {
        "id": "SVaFh43fTwt3"
      },
      "source": [
        "**EJERCICIO 10 LISTA **\n",
        "\n",
        "Crear una lista con información de estudianes de un colegio donde incluya los siguientes items:\n",
        "\n",
        "\n",
        "*   curso y división del aula del alumno\n",
        "*   nombre y apellidos\n",
        "*   DNI\n",
        "*   cantidad de notas en el primer trimestre\n",
        "*   INGRESAR CADA UNA DE ESAS NOTAS, POR EL USUARIO\n",
        "*   promedio del trimestre\n",
        "\n",
        "Mostrar todos los nombres y apellidos de los  alumnos\n",
        "Mostrar los alumnos con promedio mayor o igual a 6\n",
        "\n",
        "\n"
      ]
    },
    {
      "cell_type": "code",
      "execution_count": null,
      "metadata": {
        "id": "wzrG-JjXKpIO"
      },
      "outputs": [],
      "source": [
        "#Lista de alumnos [curso ydivision,nombre y apellido,dni,cantidad de notas]\n",
        "\n",
        "estudiantes=[\n",
        "   [\"Curso 1A\",\"Daniel Perez\",\"235677788\",3],\n",
        "   [\"Curso 2B\",\"Maria Gomez\",\"23567898\",3],\n",
        "   [\"Curso 3A\",\"José Gomez\",\"23567877\",2]\n",
        "\n",
        "]\n",
        "\n",
        "for alumno in estudiantes:\n",
        "\n",
        "    print(\"Estudiante: \",alumno[1],\" Cantidad de notas: \",alumno[3])\n",
        "    notas=[]\n",
        "    sumaNotas=0\n",
        "    for i in range(alumno[3]):\n",
        "      nota=int(input(\"Ingrese la nota: \"))\n",
        "      notas.append(nota)\n",
        "      sumaNotas+=nota\n",
        "    alumno.append(notas)\n",
        "    promedio=sumaNotas/len(notas)\n",
        "    alumno.append(promedio)\n",
        "\n",
        "print(\"Listado de alumnos \")\n",
        "for alumno in estudiantes:\n",
        "  print(alumno[1])\n",
        "\n",
        "print(\"Los alumnos con promedio mayor a 6 son: \")\n",
        "for alumno in estudiantes:\n",
        "  if (int(alumno[5])>=6):\n",
        "    print(alumno[1], \" con promedio: \",alumno[5])\n"
      ]
    }
  ],
  "metadata": {
    "colab": {
      "provenance": [],
      "include_colab_link": true
    },
    "kernelspec": {
      "display_name": "Python 3",
      "name": "python3"
    },
    "language_info": {
      "name": "python"
    }
  },
  "nbformat": 4,
  "nbformat_minor": 0
}